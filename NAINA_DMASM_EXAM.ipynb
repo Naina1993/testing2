{
 "cells": [
  {
   "cell_type": "code",
   "execution_count": 2,
   "id": "b8ee8748-6384-4133-bf6a-89b5ea0eb715",
   "metadata": {},
   "outputs": [],
   "source": [
    "import warnings\n",
    "warnings.filterwarnings('ignore')\n",
    "\n",
    "import pandas as pd\n",
    "import numpy as np\n",
    "\n",
    "import matplotlib.pyplot as plt\n",
    "import seaborn as sns\n",
    "%matplotlib inline\n",
    "\n",
    "import statsmodels.api as sm\n",
    "from statsmodels.stats.outliers_influence import variance_inflation_factor\n",
    "\n",
    "from scipy import stats \n",
    "from scipy.stats import chi2_contingency\n",
    "from scipy.stats import chi2_contingency, pearsonr, ttest_ind, mannwhitneyu, f_oneway\n",
    "\n",
    "\n",
    "from sklearn import metrics\n",
    "from sklearn.preprocessing import StandardScaler, LabelEncoder\n",
    "from sklearn.model_selection import train_test_split, KFold, cross_val_score\n",
    "from sklearn.metrics import confusion_matrix, accuracy_score, precision_score, recall_score, classification_report,f1_score, mean_squared_error, r2_score\n",
    "from sklearn.linear_model import LogisticRegression, LinearRegression\n",
    "from sklearn.tree import DecisionTreeClassifier, DecisionTreeRegressor\n",
    "from sklearn.metrics import roc_curve, roc_auc_score\n",
    "from sklearn.model_selection import GridSearchCV\n",
    "from sklearn.tree import plot_tree\n",
    "from sklearn.dummy import DummyClassifier\n",
    "from sklearn.metrics import classification_report, roc_auc_score, confusion_matrix\n",
    "import pandas as pd\n",
    "from sklearn.model_selection import train_test_split\n"
   ]
  },
  {
   "cell_type": "code",
   "execution_count": null,
   "id": "6917a642-c710-4933-8db7-74510fc60e4d",
   "metadata": {},
   "outputs": [],
   "source": []
  },
  {
   "cell_type": "markdown",
   "id": "5fae0e4d-ea3c-4cdf-bf57-f83a149ff61d",
   "metadata": {},
   "source": [
    "# Q.1 Read the dataset and drop column - 'Unnamed: 0'"
   ]
  },
  {
   "cell_type": "code",
   "execution_count": 3,
   "id": "30ced3b2-43ef-42b1-9eab-766db1656e31",
   "metadata": {},
   "outputs": [
    {
     "data": {
      "text/html": [
       "<div>\n",
       "<style scoped>\n",
       "    .dataframe tbody tr th:only-of-type {\n",
       "        vertical-align: middle;\n",
       "    }\n",
       "\n",
       "    .dataframe tbody tr th {\n",
       "        vertical-align: top;\n",
       "    }\n",
       "\n",
       "    .dataframe thead th {\n",
       "        text-align: right;\n",
       "    }\n",
       "</style>\n",
       "<table border=\"1\" class=\"dataframe\">\n",
       "  <thead>\n",
       "    <tr style=\"text-align: right;\">\n",
       "      <th></th>\n",
       "      <th>Unnamed: 0</th>\n",
       "      <th>area</th>\n",
       "      <th>perimeter</th>\n",
       "      <th>compactness</th>\n",
       "      <th>kernel length</th>\n",
       "      <th>kernel width</th>\n",
       "      <th>asymmetry coefficient</th>\n",
       "      <th>kernel groove length</th>\n",
       "      <th>wheat type</th>\n",
       "    </tr>\n",
       "  </thead>\n",
       "  <tbody>\n",
       "    <tr>\n",
       "      <th>0</th>\n",
       "      <td>0</td>\n",
       "      <td>15.26</td>\n",
       "      <td>14.84</td>\n",
       "      <td>0.8710</td>\n",
       "      <td>5.763</td>\n",
       "      <td>3.312</td>\n",
       "      <td>2.221</td>\n",
       "      <td>5.220</td>\n",
       "      <td>1</td>\n",
       "    </tr>\n",
       "    <tr>\n",
       "      <th>1</th>\n",
       "      <td>1</td>\n",
       "      <td>14.88</td>\n",
       "      <td>14.57</td>\n",
       "      <td>0.8811</td>\n",
       "      <td>5.554</td>\n",
       "      <td>3.333</td>\n",
       "      <td>1.018</td>\n",
       "      <td>4.956</td>\n",
       "      <td>1</td>\n",
       "    </tr>\n",
       "    <tr>\n",
       "      <th>2</th>\n",
       "      <td>2</td>\n",
       "      <td>14.29</td>\n",
       "      <td>14.09</td>\n",
       "      <td>0.9050</td>\n",
       "      <td>5.291</td>\n",
       "      <td>3.337</td>\n",
       "      <td>2.699</td>\n",
       "      <td>4.825</td>\n",
       "      <td>1</td>\n",
       "    </tr>\n",
       "    <tr>\n",
       "      <th>3</th>\n",
       "      <td>3</td>\n",
       "      <td>13.84</td>\n",
       "      <td>13.94</td>\n",
       "      <td>0.8955</td>\n",
       "      <td>5.324</td>\n",
       "      <td>3.379</td>\n",
       "      <td>2.259</td>\n",
       "      <td>4.805</td>\n",
       "      <td>1</td>\n",
       "    </tr>\n",
       "    <tr>\n",
       "      <th>4</th>\n",
       "      <td>4</td>\n",
       "      <td>16.14</td>\n",
       "      <td>14.99</td>\n",
       "      <td>0.9034</td>\n",
       "      <td>5.658</td>\n",
       "      <td>3.562</td>\n",
       "      <td>1.355</td>\n",
       "      <td>5.175</td>\n",
       "      <td>1</td>\n",
       "    </tr>\n",
       "  </tbody>\n",
       "</table>\n",
       "</div>"
      ],
      "text/plain": [
       "   Unnamed: 0   area  perimeter  compactness  kernel length  kernel width  \\\n",
       "0           0  15.26      14.84       0.8710          5.763         3.312   \n",
       "1           1  14.88      14.57       0.8811          5.554         3.333   \n",
       "2           2  14.29      14.09       0.9050          5.291         3.337   \n",
       "3           3  13.84      13.94       0.8955          5.324         3.379   \n",
       "4           4  16.14      14.99       0.9034          5.658         3.562   \n",
       "\n",
       "   asymmetry coefficient  kernel groove length  wheat type  \n",
       "0                  2.221                 5.220           1  \n",
       "1                  1.018                 4.956           1  \n",
       "2                  2.699                 4.825           1  \n",
       "3                  2.259                 4.805           1  \n",
       "4                  1.355                 5.175           1  "
      ]
     },
     "execution_count": 3,
     "metadata": {},
     "output_type": "execute_result"
    }
   ],
   "source": [
    "df = pd.read_csv(r\"C:\\Users\\Naina Singam\\OneDrive\\Desktop\\Data Science\\Data Mining\\EXAM\\wheat_seeds.csv\")\n",
    "df.head()"
   ]
  },
  {
   "cell_type": "code",
   "execution_count": 5,
   "id": "ac3ad42d-95ea-4810-bb3d-c96d3894a213",
   "metadata": {},
   "outputs": [
    {
     "data": {
      "text/html": [
       "<div>\n",
       "<style scoped>\n",
       "    .dataframe tbody tr th:only-of-type {\n",
       "        vertical-align: middle;\n",
       "    }\n",
       "\n",
       "    .dataframe tbody tr th {\n",
       "        vertical-align: top;\n",
       "    }\n",
       "\n",
       "    .dataframe thead th {\n",
       "        text-align: right;\n",
       "    }\n",
       "</style>\n",
       "<table border=\"1\" class=\"dataframe\">\n",
       "  <thead>\n",
       "    <tr style=\"text-align: right;\">\n",
       "      <th></th>\n",
       "      <th>area</th>\n",
       "      <th>perimeter</th>\n",
       "      <th>compactness</th>\n",
       "      <th>kernel length</th>\n",
       "      <th>kernel width</th>\n",
       "      <th>asymmetry coefficient</th>\n",
       "      <th>kernel groove length</th>\n",
       "      <th>wheat type</th>\n",
       "    </tr>\n",
       "  </thead>\n",
       "  <tbody>\n",
       "    <tr>\n",
       "      <th>0</th>\n",
       "      <td>15.26</td>\n",
       "      <td>14.84</td>\n",
       "      <td>0.8710</td>\n",
       "      <td>5.763</td>\n",
       "      <td>3.312</td>\n",
       "      <td>2.221</td>\n",
       "      <td>5.220</td>\n",
       "      <td>1</td>\n",
       "    </tr>\n",
       "    <tr>\n",
       "      <th>1</th>\n",
       "      <td>14.88</td>\n",
       "      <td>14.57</td>\n",
       "      <td>0.8811</td>\n",
       "      <td>5.554</td>\n",
       "      <td>3.333</td>\n",
       "      <td>1.018</td>\n",
       "      <td>4.956</td>\n",
       "      <td>1</td>\n",
       "    </tr>\n",
       "    <tr>\n",
       "      <th>2</th>\n",
       "      <td>14.29</td>\n",
       "      <td>14.09</td>\n",
       "      <td>0.9050</td>\n",
       "      <td>5.291</td>\n",
       "      <td>3.337</td>\n",
       "      <td>2.699</td>\n",
       "      <td>4.825</td>\n",
       "      <td>1</td>\n",
       "    </tr>\n",
       "    <tr>\n",
       "      <th>3</th>\n",
       "      <td>13.84</td>\n",
       "      <td>13.94</td>\n",
       "      <td>0.8955</td>\n",
       "      <td>5.324</td>\n",
       "      <td>3.379</td>\n",
       "      <td>2.259</td>\n",
       "      <td>4.805</td>\n",
       "      <td>1</td>\n",
       "    </tr>\n",
       "    <tr>\n",
       "      <th>4</th>\n",
       "      <td>16.14</td>\n",
       "      <td>14.99</td>\n",
       "      <td>0.9034</td>\n",
       "      <td>5.658</td>\n",
       "      <td>3.562</td>\n",
       "      <td>1.355</td>\n",
       "      <td>5.175</td>\n",
       "      <td>1</td>\n",
       "    </tr>\n",
       "  </tbody>\n",
       "</table>\n",
       "</div>"
      ],
      "text/plain": [
       "    area  perimeter  compactness  kernel length  kernel width  \\\n",
       "0  15.26      14.84       0.8710          5.763         3.312   \n",
       "1  14.88      14.57       0.8811          5.554         3.333   \n",
       "2  14.29      14.09       0.9050          5.291         3.337   \n",
       "3  13.84      13.94       0.8955          5.324         3.379   \n",
       "4  16.14      14.99       0.9034          5.658         3.562   \n",
       "\n",
       "   asymmetry coefficient  kernel groove length  wheat type  \n",
       "0                  2.221                 5.220           1  \n",
       "1                  1.018                 4.956           1  \n",
       "2                  2.699                 4.825           1  \n",
       "3                  2.259                 4.805           1  \n",
       "4                  1.355                 5.175           1  "
      ]
     },
     "execution_count": 5,
     "metadata": {},
     "output_type": "execute_result"
    }
   ],
   "source": [
    "df = df.drop(columns=['Unnamed: 0'])\n",
    "df.head()"
   ]
  },
  {
   "cell_type": "markdown",
   "id": "ebf327a2-0254-4e72-92e0-221fdd234e7e",
   "metadata": {},
   "source": [
    "# Q.2 Removing hight collinear features "
   ]
  },
  {
   "cell_type": "code",
   "execution_count": 6,
   "id": "b6db601a-656a-4ab3-b7ae-bd2623b72bdf",
   "metadata": {},
   "outputs": [
    {
     "name": "stdout",
     "output_type": "stream",
     "text": [
      "<class 'pandas.core.frame.DataFrame'>\n",
      "RangeIndex: 210 entries, 0 to 209\n",
      "Data columns (total 8 columns):\n",
      " #   Column                 Non-Null Count  Dtype  \n",
      "---  ------                 --------------  -----  \n",
      " 0   area                   210 non-null    float64\n",
      " 1   perimeter              210 non-null    float64\n",
      " 2   compactness            210 non-null    float64\n",
      " 3   kernel length          210 non-null    float64\n",
      " 4   kernel width           210 non-null    float64\n",
      " 5   asymmetry coefficient  210 non-null    float64\n",
      " 6   kernel groove length   210 non-null    float64\n",
      " 7   wheat type             210 non-null    int64  \n",
      "dtypes: float64(7), int64(1)\n",
      "memory usage: 13.3 KB\n"
     ]
    }
   ],
   "source": [
    "df.info()"
   ]
  },
  {
   "cell_type": "markdown",
   "id": "1a3630ed-47d4-4592-bc65-aae820e322d3",
   "metadata": {},
   "source": [
    "### considering wheat type as target"
   ]
  },
  {
   "cell_type": "code",
   "execution_count": 7,
   "id": "da226836-b56a-493a-9977-aee37d267ff3",
   "metadata": {},
   "outputs": [
    {
     "data": {
      "text/html": [
       "<div>\n",
       "<style scoped>\n",
       "    .dataframe tbody tr th:only-of-type {\n",
       "        vertical-align: middle;\n",
       "    }\n",
       "\n",
       "    .dataframe tbody tr th {\n",
       "        vertical-align: top;\n",
       "    }\n",
       "\n",
       "    .dataframe thead th {\n",
       "        text-align: right;\n",
       "    }\n",
       "</style>\n",
       "<table border=\"1\" class=\"dataframe\">\n",
       "  <thead>\n",
       "    <tr style=\"text-align: right;\">\n",
       "      <th></th>\n",
       "      <th>area</th>\n",
       "      <th>perimeter</th>\n",
       "      <th>compactness</th>\n",
       "      <th>kernel length</th>\n",
       "      <th>kernel width</th>\n",
       "      <th>asymmetry coefficient</th>\n",
       "      <th>kernel groove length</th>\n",
       "    </tr>\n",
       "  </thead>\n",
       "  <tbody>\n",
       "    <tr>\n",
       "      <th>0</th>\n",
       "      <td>15.26</td>\n",
       "      <td>14.84</td>\n",
       "      <td>0.8710</td>\n",
       "      <td>5.763</td>\n",
       "      <td>3.312</td>\n",
       "      <td>2.221</td>\n",
       "      <td>5.220</td>\n",
       "    </tr>\n",
       "    <tr>\n",
       "      <th>1</th>\n",
       "      <td>14.88</td>\n",
       "      <td>14.57</td>\n",
       "      <td>0.8811</td>\n",
       "      <td>5.554</td>\n",
       "      <td>3.333</td>\n",
       "      <td>1.018</td>\n",
       "      <td>4.956</td>\n",
       "    </tr>\n",
       "    <tr>\n",
       "      <th>2</th>\n",
       "      <td>14.29</td>\n",
       "      <td>14.09</td>\n",
       "      <td>0.9050</td>\n",
       "      <td>5.291</td>\n",
       "      <td>3.337</td>\n",
       "      <td>2.699</td>\n",
       "      <td>4.825</td>\n",
       "    </tr>\n",
       "    <tr>\n",
       "      <th>3</th>\n",
       "      <td>13.84</td>\n",
       "      <td>13.94</td>\n",
       "      <td>0.8955</td>\n",
       "      <td>5.324</td>\n",
       "      <td>3.379</td>\n",
       "      <td>2.259</td>\n",
       "      <td>4.805</td>\n",
       "    </tr>\n",
       "    <tr>\n",
       "      <th>4</th>\n",
       "      <td>16.14</td>\n",
       "      <td>14.99</td>\n",
       "      <td>0.9034</td>\n",
       "      <td>5.658</td>\n",
       "      <td>3.562</td>\n",
       "      <td>1.355</td>\n",
       "      <td>5.175</td>\n",
       "    </tr>\n",
       "  </tbody>\n",
       "</table>\n",
       "</div>"
      ],
      "text/plain": [
       "    area  perimeter  compactness  kernel length  kernel width  \\\n",
       "0  15.26      14.84       0.8710          5.763         3.312   \n",
       "1  14.88      14.57       0.8811          5.554         3.333   \n",
       "2  14.29      14.09       0.9050          5.291         3.337   \n",
       "3  13.84      13.94       0.8955          5.324         3.379   \n",
       "4  16.14      14.99       0.9034          5.658         3.562   \n",
       "\n",
       "   asymmetry coefficient  kernel groove length  \n",
       "0                  2.221                 5.220  \n",
       "1                  1.018                 4.956  \n",
       "2                  2.699                 4.825  \n",
       "3                  2.259                 4.805  \n",
       "4                  1.355                 5.175  "
      ]
     },
     "execution_count": 7,
     "metadata": {},
     "output_type": "execute_result"
    }
   ],
   "source": [
    "features = df.drop(columns= ['wheat type'])\n",
    "features.head()"
   ]
  },
  {
   "cell_type": "code",
   "execution_count": 10,
   "id": "a6df4f10-a495-465d-b1ad-40987a60fa0b",
   "metadata": {},
   "outputs": [
    {
     "data": {
      "text/html": [
       "<div>\n",
       "<style scoped>\n",
       "    .dataframe tbody tr th:only-of-type {\n",
       "        vertical-align: middle;\n",
       "    }\n",
       "\n",
       "    .dataframe tbody tr th {\n",
       "        vertical-align: top;\n",
       "    }\n",
       "\n",
       "    .dataframe thead th {\n",
       "        text-align: right;\n",
       "    }\n",
       "</style>\n",
       "<table border=\"1\" class=\"dataframe\">\n",
       "  <thead>\n",
       "    <tr style=\"text-align: right;\">\n",
       "      <th></th>\n",
       "      <th>area</th>\n",
       "      <th>perimeter</th>\n",
       "      <th>compactness</th>\n",
       "      <th>kernel length</th>\n",
       "      <th>kernel width</th>\n",
       "      <th>asymmetry coefficient</th>\n",
       "      <th>kernel groove length</th>\n",
       "    </tr>\n",
       "  </thead>\n",
       "  <tbody>\n",
       "    <tr>\n",
       "      <th>area</th>\n",
       "      <td>1.000000</td>\n",
       "      <td>0.994341</td>\n",
       "      <td>0.608288</td>\n",
       "      <td>0.949985</td>\n",
       "      <td>0.970771</td>\n",
       "      <td>-0.229572</td>\n",
       "      <td>0.863693</td>\n",
       "    </tr>\n",
       "    <tr>\n",
       "      <th>perimeter</th>\n",
       "      <td>0.994341</td>\n",
       "      <td>1.000000</td>\n",
       "      <td>0.529244</td>\n",
       "      <td>0.972422</td>\n",
       "      <td>0.944829</td>\n",
       "      <td>-0.217340</td>\n",
       "      <td>0.890784</td>\n",
       "    </tr>\n",
       "    <tr>\n",
       "      <th>compactness</th>\n",
       "      <td>0.608288</td>\n",
       "      <td>0.529244</td>\n",
       "      <td>1.000000</td>\n",
       "      <td>0.367915</td>\n",
       "      <td>0.761635</td>\n",
       "      <td>-0.331471</td>\n",
       "      <td>0.226825</td>\n",
       "    </tr>\n",
       "    <tr>\n",
       "      <th>kernel length</th>\n",
       "      <td>0.949985</td>\n",
       "      <td>0.972422</td>\n",
       "      <td>0.367915</td>\n",
       "      <td>1.000000</td>\n",
       "      <td>0.860415</td>\n",
       "      <td>-0.171562</td>\n",
       "      <td>0.932806</td>\n",
       "    </tr>\n",
       "    <tr>\n",
       "      <th>kernel width</th>\n",
       "      <td>0.970771</td>\n",
       "      <td>0.944829</td>\n",
       "      <td>0.761635</td>\n",
       "      <td>0.860415</td>\n",
       "      <td>1.000000</td>\n",
       "      <td>-0.258037</td>\n",
       "      <td>0.749131</td>\n",
       "    </tr>\n",
       "    <tr>\n",
       "      <th>asymmetry coefficient</th>\n",
       "      <td>-0.229572</td>\n",
       "      <td>-0.217340</td>\n",
       "      <td>-0.331471</td>\n",
       "      <td>-0.171562</td>\n",
       "      <td>-0.258037</td>\n",
       "      <td>1.000000</td>\n",
       "      <td>-0.011079</td>\n",
       "    </tr>\n",
       "    <tr>\n",
       "      <th>kernel groove length</th>\n",
       "      <td>0.863693</td>\n",
       "      <td>0.890784</td>\n",
       "      <td>0.226825</td>\n",
       "      <td>0.932806</td>\n",
       "      <td>0.749131</td>\n",
       "      <td>-0.011079</td>\n",
       "      <td>1.000000</td>\n",
       "    </tr>\n",
       "  </tbody>\n",
       "</table>\n",
       "</div>"
      ],
      "text/plain": [
       "                           area  perimeter  compactness  kernel length  \\\n",
       "area                   1.000000   0.994341     0.608288       0.949985   \n",
       "perimeter              0.994341   1.000000     0.529244       0.972422   \n",
       "compactness            0.608288   0.529244     1.000000       0.367915   \n",
       "kernel length          0.949985   0.972422     0.367915       1.000000   \n",
       "kernel width           0.970771   0.944829     0.761635       0.860415   \n",
       "asymmetry coefficient -0.229572  -0.217340    -0.331471      -0.171562   \n",
       "kernel groove length   0.863693   0.890784     0.226825       0.932806   \n",
       "\n",
       "                       kernel width  asymmetry coefficient  \\\n",
       "area                       0.970771              -0.229572   \n",
       "perimeter                  0.944829              -0.217340   \n",
       "compactness                0.761635              -0.331471   \n",
       "kernel length              0.860415              -0.171562   \n",
       "kernel width               1.000000              -0.258037   \n",
       "asymmetry coefficient     -0.258037               1.000000   \n",
       "kernel groove length       0.749131              -0.011079   \n",
       "\n",
       "                       kernel groove length  \n",
       "area                               0.863693  \n",
       "perimeter                          0.890784  \n",
       "compactness                        0.226825  \n",
       "kernel length                      0.932806  \n",
       "kernel width                       0.749131  \n",
       "asymmetry coefficient             -0.011079  \n",
       "kernel groove length               1.000000  "
      ]
     },
     "execution_count": 10,
     "metadata": {},
     "output_type": "execute_result"
    }
   ],
   "source": [
    "features.corr()"
   ]
  },
  {
   "cell_type": "code",
   "execution_count": 46,
   "id": "fffad25f-52e7-40d7-af91-903c82b1dfbb",
   "metadata": {},
   "outputs": [
    {
     "name": "stdout",
     "output_type": "stream",
     "text": [
      "Heigh correlation pair: [('area', 'perimeter'), ('area', 'kernel length'), ('area', 'kernel width'), ('area', 'kernel groove length'), ('perimeter', 'kernel length'), ('perimeter', 'kernel width'), ('perimeter', 'kernel groove length'), ('compactness', 'kernel width'), ('kernel length', 'kernel width'), ('kernel length', 'kernel groove length')]\n",
      "Features to drop: {'perimeter', 'compactness', 'area', 'kernel length'}\n"
     ]
    }
   ],
   "source": [
    "df_corr = features.corr().abs()\n",
    "\n",
    "threshold = 0.75\n",
    "\n",
    "heigh_corr_pairs = np.where(df_corr > threshold)\n",
    "\n",
    "heigh_corr_pairs = [\n",
    "(features.columns[i], \n",
    " features.columns[j]) for i,j in  \n",
    "zip(*heigh_corr_pairs) if i != j and  \n",
    "    i < j ]\n",
    " \n",
    "print('Heigh correlation pair:', heigh_corr_pairs)\n",
    "\n",
    "drop_features = set()\n",
    "for (feature1, feature2) in heigh_corr_pairs:\n",
    "    drop_features.add(feature1)\n",
    "    \n",
    "print('Features to drop:', drop_features)\n",
    "\n",
    "df_remaining= df.drop(columns=drop_features)"
   ]
  },
  {
   "cell_type": "code",
   "execution_count": 42,
   "id": "f448d2c6-d887-439a-8ba2-3ce7e797a46e",
   "metadata": {},
   "outputs": [
    {
     "data": {
      "text/plain": [
       "[('area', 'perimeter'),\n",
       " ('area', 'kernel length'),\n",
       " ('area', 'kernel width'),\n",
       " ('area', 'kernel groove length'),\n",
       " ('perimeter', 'kernel length'),\n",
       " ('perimeter', 'kernel width'),\n",
       " ('perimeter', 'kernel groove length'),\n",
       " ('compactness', 'kernel width'),\n",
       " ('kernel length', 'kernel width'),\n",
       " ('kernel length', 'kernel groove length')]"
      ]
     },
     "execution_count": 42,
     "metadata": {},
     "output_type": "execute_result"
    }
   ],
   "source": [
    "heigh_corr_pairs"
   ]
  },
  {
   "cell_type": "code",
   "execution_count": 47,
   "id": "e9f715f8-3557-409b-9629-250d4107f8bd",
   "metadata": {},
   "outputs": [
    {
     "data": {
      "text/plain": [
       "{'area', 'compactness', 'kernel length', 'perimeter'}"
      ]
     },
     "execution_count": 47,
     "metadata": {},
     "output_type": "execute_result"
    }
   ],
   "source": [
    "drop_features"
   ]
  },
  {
   "cell_type": "code",
   "execution_count": 49,
   "id": "80623514-3eed-4489-8dc9-3ec5de3743b0",
   "metadata": {},
   "outputs": [
    {
     "data": {
      "text/html": [
       "<div>\n",
       "<style scoped>\n",
       "    .dataframe tbody tr th:only-of-type {\n",
       "        vertical-align: middle;\n",
       "    }\n",
       "\n",
       "    .dataframe tbody tr th {\n",
       "        vertical-align: top;\n",
       "    }\n",
       "\n",
       "    .dataframe thead th {\n",
       "        text-align: right;\n",
       "    }\n",
       "</style>\n",
       "<table border=\"1\" class=\"dataframe\">\n",
       "  <thead>\n",
       "    <tr style=\"text-align: right;\">\n",
       "      <th></th>\n",
       "      <th>kernel width</th>\n",
       "      <th>asymmetry coefficient</th>\n",
       "      <th>kernel groove length</th>\n",
       "      <th>wheat type</th>\n",
       "    </tr>\n",
       "  </thead>\n",
       "  <tbody>\n",
       "    <tr>\n",
       "      <th>0</th>\n",
       "      <td>3.312</td>\n",
       "      <td>2.221</td>\n",
       "      <td>5.220</td>\n",
       "      <td>1</td>\n",
       "    </tr>\n",
       "    <tr>\n",
       "      <th>1</th>\n",
       "      <td>3.333</td>\n",
       "      <td>1.018</td>\n",
       "      <td>4.956</td>\n",
       "      <td>1</td>\n",
       "    </tr>\n",
       "    <tr>\n",
       "      <th>2</th>\n",
       "      <td>3.337</td>\n",
       "      <td>2.699</td>\n",
       "      <td>4.825</td>\n",
       "      <td>1</td>\n",
       "    </tr>\n",
       "    <tr>\n",
       "      <th>3</th>\n",
       "      <td>3.379</td>\n",
       "      <td>2.259</td>\n",
       "      <td>4.805</td>\n",
       "      <td>1</td>\n",
       "    </tr>\n",
       "    <tr>\n",
       "      <th>4</th>\n",
       "      <td>3.562</td>\n",
       "      <td>1.355</td>\n",
       "      <td>5.175</td>\n",
       "      <td>1</td>\n",
       "    </tr>\n",
       "  </tbody>\n",
       "</table>\n",
       "</div>"
      ],
      "text/plain": [
       "   kernel width  asymmetry coefficient  kernel groove length  wheat type\n",
       "0         3.312                  2.221                 5.220           1\n",
       "1         3.333                  1.018                 4.956           1\n",
       "2         3.337                  2.699                 4.825           1\n",
       "3         3.379                  2.259                 4.805           1\n",
       "4         3.562                  1.355                 5.175           1"
      ]
     },
     "execution_count": 49,
     "metadata": {},
     "output_type": "execute_result"
    }
   ],
   "source": [
    "df_remaining.head()"
   ]
  },
  {
   "cell_type": "code",
   "execution_count": null,
   "id": "c3a19867-4b5b-44cd-bdce-34ff39438c16",
   "metadata": {},
   "outputs": [],
   "source": []
  },
  {
   "cell_type": "code",
   "execution_count": 50,
   "id": "f504419e-8ec1-48fa-9822-4458bbbe83e0",
   "metadata": {},
   "outputs": [
    {
     "name": "stdout",
     "output_type": "stream",
     "text": [
      "<class 'pandas.core.frame.DataFrame'>\n",
      "RangeIndex: 210 entries, 0 to 209\n",
      "Data columns (total 8 columns):\n",
      " #   Column                 Non-Null Count  Dtype  \n",
      "---  ------                 --------------  -----  \n",
      " 0   area                   210 non-null    float64\n",
      " 1   perimeter              210 non-null    float64\n",
      " 2   compactness            210 non-null    float64\n",
      " 3   kernel length          210 non-null    float64\n",
      " 4   kernel width           210 non-null    float64\n",
      " 5   asymmetry coefficient  210 non-null    float64\n",
      " 6   kernel groove length   210 non-null    float64\n",
      " 7   wheat type             210 non-null    int64  \n",
      "dtypes: float64(7), int64(1)\n",
      "memory usage: 13.3 KB\n"
     ]
    }
   ],
   "source": [
    "df.info()"
   ]
  },
  {
   "cell_type": "markdown",
   "id": "29713930-a9e7-4fb4-9a53-2c151fbeb081",
   "metadata": {},
   "source": [
    "# Q.3 Visualize the relation between predictor and classes of target:"
   ]
  },
  {
   "cell_type": "code",
   "execution_count": 73,
   "id": "394f181e-45a4-4789-b41b-b91fec70815a",
   "metadata": {},
   "outputs": [],
   "source": [
    "y = df_remaining['wheat type']\n",
    "x = df_remaining.drop(columns= ['wheat type'])"
   ]
  },
  {
   "cell_type": "code",
   "execution_count": 58,
   "id": "527a8175-4d59-490b-be8e-518c0d3601e6",
   "metadata": {},
   "outputs": [
    {
     "name": "stdout",
     "output_type": "stream",
     "text": [
      "<class 'pandas.core.frame.DataFrame'>\n",
      "RangeIndex: 210 entries, 0 to 209\n",
      "Data columns (total 4 columns):\n",
      " #   Column                 Non-Null Count  Dtype  \n",
      "---  ------                 --------------  -----  \n",
      " 0   kernel width           210 non-null    float64\n",
      " 1   asymmetry coefficient  210 non-null    float64\n",
      " 2   kernel groove length   210 non-null    float64\n",
      " 3   wheat type             210 non-null    int64  \n",
      "dtypes: float64(3), int64(1)\n",
      "memory usage: 6.7 KB\n"
     ]
    }
   ],
   "source": [
    "df_remaining.info()"
   ]
  },
  {
   "cell_type": "code",
   "execution_count": 60,
   "id": "45890e89-1b17-4fab-adb8-a6c7f796dfe7",
   "metadata": {},
   "outputs": [
    {
     "data": {
      "image/png": "[encoded data removed]",
      "text/plain": [
       "<Figure size 1000x800 with 1 Axes>"
      ]
     },
     "metadata": {},
     "output_type": "display_data"
    }
   ],
   "source": [
    "sns.set(style='whitegrid')\n",
    "\n",
    "plt.figure(figsize=(10,8))\n",
    "sns.scatterplot(data=df_remaining, x='kernel width', y='kernel groove length', hue='wheat type', palette='viridis', edgecolor='k', alpha=0.7)\n",
    "\n",
    "plt.xlabel('kenrnel width')\n",
    "plt.ylabel('kernel groove length')\n",
    "plt.title('Realtion bwt predictors & Target')\n",
    "\n",
    "plt.show()"
   ]
  },
  {
   "cell_type": "code",
   "execution_count": null,
   "id": "c31916a1-326e-4b62-83ad-5d43f05c7449",
   "metadata": {},
   "outputs": [],
   "source": []
  },
  {
   "cell_type": "markdown",
   "id": "437cdce0-cdd8-4146-92dc-b2b5099b7c27",
   "metadata": {},
   "source": [
    "# Q.4 Data PreProcessing:"
   ]
  },
  {
   "cell_type": "markdown",
   "id": "f59613cf-7ede-4f7d-8e74-5085147ebc22",
   "metadata": {},
   "source": [
    "### Splitting data"
   ]
  },
  {
   "cell_type": "code",
   "execution_count": 75,
   "id": "41e9b4a4-dae2-4b33-a057-d630ac8baa1d",
   "metadata": {},
   "outputs": [],
   "source": [
    "x_train, x_test, y_train, y_test = train_test_split(x,y, test_size=0.2, random_state=22)"
   ]
  },
  {
   "cell_type": "code",
   "execution_count": 76,
   "id": "f8201450-27c0-420c-88cb-e058a85ff10c",
   "metadata": {},
   "outputs": [
    {
     "data": {
      "text/html": [
       "<div>\n",
       "<style scoped>\n",
       "    .dataframe tbody tr th:only-of-type {\n",
       "        vertical-align: middle;\n",
       "    }\n",
       "\n",
       "    .dataframe tbody tr th {\n",
       "        vertical-align: top;\n",
       "    }\n",
       "\n",
       "    .dataframe thead th {\n",
       "        text-align: right;\n",
       "    }\n",
       "</style>\n",
       "<table border=\"1\" class=\"dataframe\">\n",
       "  <thead>\n",
       "    <tr style=\"text-align: right;\">\n",
       "      <th></th>\n",
       "      <th>kernel width</th>\n",
       "      <th>asymmetry coefficient</th>\n",
       "      <th>kernel groove length</th>\n",
       "    </tr>\n",
       "  </thead>\n",
       "  <tbody>\n",
       "    <tr>\n",
       "      <th>61</th>\n",
       "      <td>2.879</td>\n",
       "      <td>2.269</td>\n",
       "      <td>4.703</td>\n",
       "    </tr>\n",
       "    <tr>\n",
       "      <th>18</th>\n",
       "      <td>3.466</td>\n",
       "      <td>1.767</td>\n",
       "      <td>4.649</td>\n",
       "    </tr>\n",
       "    <tr>\n",
       "      <th>206</th>\n",
       "      <td>2.795</td>\n",
       "      <td>4.325</td>\n",
       "      <td>5.003</td>\n",
       "    </tr>\n",
       "    <tr>\n",
       "      <th>78</th>\n",
       "      <td>3.639</td>\n",
       "      <td>5.064</td>\n",
       "      <td>6.362</td>\n",
       "    </tr>\n",
       "    <tr>\n",
       "      <th>204</th>\n",
       "      <td>2.960</td>\n",
       "      <td>3.919</td>\n",
       "      <td>5.001</td>\n",
       "    </tr>\n",
       "  </tbody>\n",
       "</table>\n",
       "</div>"
      ],
      "text/plain": [
       "     kernel width  asymmetry coefficient  kernel groove length\n",
       "61          2.879                  2.269                 4.703\n",
       "18          3.466                  1.767                 4.649\n",
       "206         2.795                  4.325                 5.003\n",
       "78          3.639                  5.064                 6.362\n",
       "204         2.960                  3.919                 5.001"
      ]
     },
     "execution_count": 76,
     "metadata": {},
     "output_type": "execute_result"
    }
   ],
   "source": [
    "x_train.head()"
   ]
  },
  {
   "cell_type": "code",
   "execution_count": 77,
   "id": "3399eceb-4fdb-4ca9-8197-965b5baf201c",
   "metadata": {},
   "outputs": [
    {
     "data": {
      "text/html": [
       "<div>\n",
       "<style scoped>\n",
       "    .dataframe tbody tr th:only-of-type {\n",
       "        vertical-align: middle;\n",
       "    }\n",
       "\n",
       "    .dataframe tbody tr th {\n",
       "        vertical-align: top;\n",
       "    }\n",
       "\n",
       "    .dataframe thead th {\n",
       "        text-align: right;\n",
       "    }\n",
       "</style>\n",
       "<table border=\"1\" class=\"dataframe\">\n",
       "  <thead>\n",
       "    <tr style=\"text-align: right;\">\n",
       "      <th></th>\n",
       "      <th>kernel width</th>\n",
       "      <th>asymmetry coefficient</th>\n",
       "      <th>kernel groove length</th>\n",
       "    </tr>\n",
       "  </thead>\n",
       "  <tbody>\n",
       "    <tr>\n",
       "      <th>20</th>\n",
       "      <td>3.129</td>\n",
       "      <td>3.072</td>\n",
       "      <td>5.176</td>\n",
       "    </tr>\n",
       "    <tr>\n",
       "      <th>49</th>\n",
       "      <td>3.258</td>\n",
       "      <td>2.129</td>\n",
       "      <td>5.351</td>\n",
       "    </tr>\n",
       "    <tr>\n",
       "      <th>114</th>\n",
       "      <td>3.991</td>\n",
       "      <td>4.677</td>\n",
       "      <td>6.316</td>\n",
       "    </tr>\n",
       "    <tr>\n",
       "      <th>32</th>\n",
       "      <td>3.186</td>\n",
       "      <td>3.920</td>\n",
       "      <td>5.299</td>\n",
       "    </tr>\n",
       "    <tr>\n",
       "      <th>75</th>\n",
       "      <td>3.438</td>\n",
       "      <td>4.920</td>\n",
       "      <td>5.795</td>\n",
       "    </tr>\n",
       "  </tbody>\n",
       "</table>\n",
       "</div>"
      ],
      "text/plain": [
       "     kernel width  asymmetry coefficient  kernel groove length\n",
       "20          3.129                  3.072                 5.176\n",
       "49          3.258                  2.129                 5.351\n",
       "114         3.991                  4.677                 6.316\n",
       "32          3.186                  3.920                 5.299\n",
       "75          3.438                  4.920                 5.795"
      ]
     },
     "execution_count": 77,
     "metadata": {},
     "output_type": "execute_result"
    }
   ],
   "source": [
    "x_test.head()"
   ]
  },
  {
   "cell_type": "markdown",
   "id": "b2c1c19e-9634-4149-928c-504735bacb87",
   "metadata": {},
   "source": [
    "### Standardazation:"
   ]
  },
  {
   "cell_type": "code",
   "execution_count": 69,
   "id": "39f29338-7d18-406d-a2a0-aedeee3d6402",
   "metadata": {},
   "outputs": [],
   "source": [
    "scaler = StandardScaler()"
   ]
  },
  {
   "cell_type": "code",
   "execution_count": 78,
   "id": "3de6b5bf-c32f-4977-8c65-bb452890e80c",
   "metadata": {},
   "outputs": [],
   "source": [
    "x_train_scaled = scaler.fit_transform(x_train)"
   ]
  },
  {
   "cell_type": "code",
   "execution_count": 79,
   "id": "181eba99-9373-4500-8159-ec51f60d153c",
   "metadata": {},
   "outputs": [],
   "source": [
    "x_test_scaled = scaler.transform(x_test)"
   ]
  },
  {
   "cell_type": "code",
   "execution_count": 80,
   "id": "671f1a40-3011-4044-a1de-4021e6dbdf2d",
   "metadata": {},
   "outputs": [
    {
     "data": {
      "text/plain": [
       "numpy.ndarray"
      ]
     },
     "execution_count": 80,
     "metadata": {},
     "output_type": "execute_result"
    }
   ],
   "source": [
    "type(x_train_scaled)"
   ]
  },
  {
   "cell_type": "code",
   "execution_count": null,
   "id": "8a51aebb-f138-46af-82ed-625647771f60",
   "metadata": {},
   "outputs": [],
   "source": []
  },
  {
   "cell_type": "markdown",
   "id": "6da0926c-02b2-4bd9-9fba-21f667847e77",
   "metadata": {},
   "source": [
    "# Q.5 Logistic Regression - model, y_pred, accuracy score, classification report"
   ]
  },
  {
   "cell_type": "code",
   "execution_count": 85,
   "id": "49e1c187-5708-486c-bdcb-65c502ecd1ce",
   "metadata": {},
   "outputs": [],
   "source": [
    "model = LogisticRegression(multi_class='multinomial', solver='lbfgs', max_iter=1000, random_state=23)"
   ]
  },
  {
   "cell_type": "code",
   "execution_count": 86,
   "id": "790932da-f4de-433f-b547-05fa4393c37c",
   "metadata": {},
   "outputs": [
    {
     "data": {
      "text/html": [
       "<style>#sk-container-id-2 {color: black;background-color: white;}#sk-container-id-2 pre{padding: 0;}#sk-container-id-2 div.sk-toggleable {background-color: white;}#sk-container-id-2 label.sk-toggleable__label {cursor: pointer;display: block;width: 100%;margin-bottom: 0;padding: 0.3em;box-sizing: border-box;text-align: center;}#sk-container-id-2 label.sk-toggleable__label-arrow:before {content: \"▸\";float: left;margin-right: 0.25em;color: #696969;}#sk-container-id-2 label.sk-toggleable__label-arrow:hover:before {color: black;}#sk-container-id-2 div.sk-estimator:hover label.sk-toggleable__label-arrow:before {color: black;}#sk-container-id-2 div.sk-toggleable__content {max-height: 0;max-width: 0;overflow: hidden;text-align: left;background-color: #f0f8ff;}#sk-container-id-2 div.sk-toggleable__content pre {margin: 0.2em;color: black;border-radius: 0.25em;background-color: #f0f8ff;}#sk-container-id-2 input.sk-toggleable__control:checked~div.sk-toggleable__content {max-height: 200px;max-width: 100%;overflow: auto;}#sk-container-id-2 input.sk-toggleable__control:checked~label.sk-toggleable__label-arrow:before {content: \"▾\";}#sk-container-id-2 div.sk-estimator input.sk-toggleable__control:checked~label.sk-toggleable__label {background-color: #d4ebff;}#sk-container-id-2 div.sk-label input.sk-toggleable__control:checked~label.sk-toggleable__label {background-color: #d4ebff;}#sk-container-id-2 input.sk-hidden--visually {border: 0;clip: rect(1px 1px 1px 1px);clip: rect(1px, 1px, 1px, 1px);height: 1px;margin: -1px;overflow: hidden;padding: 0;position: absolute;width: 1px;}#sk-container-id-2 div.sk-estimator {font-family: monospace;background-color: #f0f8ff;border: 1px dotted black;border-radius: 0.25em;box-sizing: border-box;margin-bottom: 0.5em;}#sk-container-id-2 div.sk-estimator:hover {background-color: #d4ebff;}#sk-container-id-2 div.sk-parallel-item::after {content: \"\";width: 100%;border-bottom: 1px solid gray;flex-grow: 1;}#sk-container-id-2 div.sk-label:hover label.sk-toggleable__label {background-color: #d4ebff;}#sk-container-id-2 div.sk-serial::before {content: \"\";position: absolute;border-left: 1px solid gray;box-sizing: border-box;top: 0;bottom: 0;left: 50%;z-index: 0;}#sk-container-id-2 div.sk-serial {display: flex;flex-direction: column;align-items: center;background-color: white;padding-right: 0.2em;padding-left: 0.2em;position: relative;}#sk-container-id-2 div.sk-item {position: relative;z-index: 1;}#sk-container-id-2 div.sk-parallel {display: flex;align-items: stretch;justify-content: center;background-color: white;position: relative;}#sk-container-id-2 div.sk-item::before, #sk-container-id-2 div.sk-parallel-item::before {content: \"\";position: absolute;border-left: 1px solid gray;box-sizing: border-box;top: 0;bottom: 0;left: 50%;z-index: -1;}#sk-container-id-2 div.sk-parallel-item {display: flex;flex-direction: column;z-index: 1;position: relative;background-color: white;}#sk-container-id-2 div.sk-parallel-item:first-child::after {align-self: flex-end;width: 50%;}#sk-container-id-2 div.sk-parallel-item:last-child::after {align-self: flex-start;width: 50%;}#sk-container-id-2 div.sk-parallel-item:only-child::after {width: 0;}#sk-container-id-2 div.sk-dashed-wrapped {border: 1px dashed gray;margin: 0 0.4em 0.5em 0.4em;box-sizing: border-box;padding-bottom: 0.4em;background-color: white;}#sk-container-id-2 div.sk-label label {font-family: monospace;font-weight: bold;display: inline-block;line-height: 1.2em;}#sk-container-id-2 div.sk-label-container {text-align: center;}#sk-container-id-2 div.sk-container {/* jupyter's `normalize.less` sets `[hidden] { display: none; }` but bootstrap.min.css set `[hidden] { display: none !important; }` so we also need the `!important` here to be able to override the default hidden behavior on the sphinx rendered scikit-learn.org. See: https://github.com/scikit-learn/scikit-learn/issues/21755 */display: inline-block !important;position: relative;}#sk-container-id-2 div.sk-text-repr-fallback {display: none;}</style><div id=\"sk-container-id-2\" class=\"sk-top-container\"><div class=\"sk-text-repr-fallback\"><pre>LogisticRegression(max_iter=1000, multi_class=&#x27;multinomial&#x27;, random_state=23)</pre><b>In a Jupyter environment, please rerun this cell to show the HTML representation or trust the notebook. <br />On GitHub, the HTML representation is unable to render, please try loading this page with nbviewer.org.</b></div><div class=\"sk-container\" hidden><div class=\"sk-item\"><div class=\"sk-estimator sk-toggleable\"><input class=\"sk-toggleable__control sk-hidden--visually\" id=\"sk-estimator-id-2\" type=\"checkbox\" checked><label for=\"sk-estimator-id-2\" class=\"sk-toggleable__label sk-toggleable__label-arrow\">LogisticRegression</label><div class=\"sk-toggleable__content\"><pre>LogisticRegression(max_iter=1000, multi_class=&#x27;multinomial&#x27;, random_state=23)</pre></div></div></div></div></div>"
      ],
      "text/plain": [
       "LogisticRegression(max_iter=1000, multi_class='multinomial', random_state=23)"
      ]
     },
     "execution_count": 86,
     "metadata": {},
     "output_type": "execute_result"
    }
   ],
   "source": [
    "model.fit(x_train_scaled, y_train)"
   ]
  },
  {
   "cell_type": "code",
   "execution_count": 88,
   "id": "8b88f07a-3f4e-4254-9904-fbc115abf064",
   "metadata": {},
   "outputs": [],
   "source": [
    "y_pred = model.predict(x_test_scaled)"
   ]
  },
  {
   "cell_type": "code",
   "execution_count": 104,
   "id": "4a445b6b-cec8-465e-b064-226cb0739d60",
   "metadata": {},
   "outputs": [
    {
     "data": {
      "text/plain": [
       "array([1, 1, 2, 1, 2, 3, 3, 1, 2, 2, 3, 2, 1, 2, 2, 2, 2, 1, 1, 3, 1, 3,\n",
       "       1, 2, 1, 1, 3, 3, 1, 3, 3, 3, 3, 2, 1, 1, 3, 2, 2, 3, 2, 3],\n",
       "      dtype=int64)"
      ]
     },
     "execution_count": 104,
     "metadata": {},
     "output_type": "execute_result"
    }
   ],
   "source": [
    "y_pred"
   ]
  },
  {
   "cell_type": "code",
   "execution_count": 89,
   "id": "3fa02f23-1085-40c5-b08b-249f5be43643",
   "metadata": {},
   "outputs": [],
   "source": [
    "accuracyScore = accuracy_score(y_test, y_pred)"
   ]
  },
  {
   "cell_type": "code",
   "execution_count": 90,
   "id": "697b53ce-8cce-4b90-9017-9444c2ba98a4",
   "metadata": {},
   "outputs": [
    {
     "data": {
      "text/plain": [
       "0.9523809523809523"
      ]
     },
     "execution_count": 90,
     "metadata": {},
     "output_type": "execute_result"
    }
   ],
   "source": [
    "accuracyScore"
   ]
  },
  {
   "cell_type": "code",
   "execution_count": 116,
   "id": "7e7b25ae-387c-4e75-9ed6-febcaf1ff7ae",
   "metadata": {},
   "outputs": [
    {
     "name": "stdout",
     "output_type": "stream",
     "text": [
      "\n",
      "classification Report:\n",
      "               precision    recall  f1-score   support\n",
      "\n",
      "           1       0.86      1.00      0.92        12\n",
      "           2       1.00      0.93      0.97        15\n",
      "           3       1.00      0.93      0.97        15\n",
      "\n",
      "    accuracy                           0.95        42\n",
      "   macro avg       0.95      0.96      0.95        42\n",
      "weighted avg       0.96      0.95      0.95        42\n",
      "\n"
     ]
    }
   ],
   "source": [
    "print('\\nclassification Report:\\n', classification_report(y_test, y_pred))"
   ]
  },
  {
   "cell_type": "code",
   "execution_count": null,
   "id": "a998906b-9a9d-4d49-950e-3c7672c1e57d",
   "metadata": {},
   "outputs": [],
   "source": []
  },
  {
   "cell_type": "markdown",
   "id": "6027c602-60db-4b1a-9cb7-80cd7f4c567d",
   "metadata": {},
   "source": [
    "# Q.6 Linear Discriminante Analysis:"
   ]
  },
  {
   "cell_type": "code",
   "execution_count": 100,
   "id": "ebdf0b20-19b9-46fa-aa0f-cc0712b218e9",
   "metadata": {},
   "outputs": [],
   "source": [
    "from sklearn.discriminant_analysis import LinearDiscriminantAnalysis "
   ]
  },
  {
   "cell_type": "code",
   "execution_count": 101,
   "id": "24b75d82-97de-4f8c-9a66-65674f899dcd",
   "metadata": {},
   "outputs": [],
   "source": [
    "model2 = LinearDiscriminantAnalysis()"
   ]
  },
  {
   "cell_type": "code",
   "execution_count": 102,
   "id": "29ac58a4-c653-4117-b338-4997c39a6fdf",
   "metadata": {},
   "outputs": [
    {
     "data": {
      "text/html": [
       "<style>#sk-container-id-3 {color: black;background-color: white;}#sk-container-id-3 pre{padding: 0;}#sk-container-id-3 div.sk-toggleable {background-color: white;}#sk-container-id-3 label.sk-toggleable__label {cursor: pointer;display: block;width: 100%;margin-bottom: 0;padding: 0.3em;box-sizing: border-box;text-align: center;}#sk-container-id-3 label.sk-toggleable__label-arrow:before {content: \"▸\";float: left;margin-right: 0.25em;color: #696969;}#sk-container-id-3 label.sk-toggleable__label-arrow:hover:before {color: black;}#sk-container-id-3 div.sk-estimator:hover label.sk-toggleable__label-arrow:before {color: black;}#sk-container-id-3 div.sk-toggleable__content {max-height: 0;max-width: 0;overflow: hidden;text-align: left;background-color: #f0f8ff;}#sk-container-id-3 div.sk-toggleable__content pre {margin: 0.2em;color: black;border-radius: 0.25em;background-color: #f0f8ff;}#sk-container-id-3 input.sk-toggleable__control:checked~div.sk-toggleable__content {max-height: 200px;max-width: 100%;overflow: auto;}#sk-container-id-3 input.sk-toggleable__control:checked~label.sk-toggleable__label-arrow:before {content: \"▾\";}#sk-container-id-3 div.sk-estimator input.sk-toggleable__control:checked~label.sk-toggleable__label {background-color: #d4ebff;}#sk-container-id-3 div.sk-label input.sk-toggleable__control:checked~label.sk-toggleable__label {background-color: #d4ebff;}#sk-container-id-3 input.sk-hidden--visually {border: 0;clip: rect(1px 1px 1px 1px);clip: rect(1px, 1px, 1px, 1px);height: 1px;margin: -1px;overflow: hidden;padding: 0;position: absolute;width: 1px;}#sk-container-id-3 div.sk-estimator {font-family: monospace;background-color: #f0f8ff;border: 1px dotted black;border-radius: 0.25em;box-sizing: border-box;margin-bottom: 0.5em;}#sk-container-id-3 div.sk-estimator:hover {background-color: #d4ebff;}#sk-container-id-3 div.sk-parallel-item::after {content: \"\";width: 100%;border-bottom: 1px solid gray;flex-grow: 1;}#sk-container-id-3 div.sk-label:hover label.sk-toggleable__label {background-color: #d4ebff;}#sk-container-id-3 div.sk-serial::before {content: \"\";position: absolute;border-left: 1px solid gray;box-sizing: border-box;top: 0;bottom: 0;left: 50%;z-index: 0;}#sk-container-id-3 div.sk-serial {display: flex;flex-direction: column;align-items: center;background-color: white;padding-right: 0.2em;padding-left: 0.2em;position: relative;}#sk-container-id-3 div.sk-item {position: relative;z-index: 1;}#sk-container-id-3 div.sk-parallel {display: flex;align-items: stretch;justify-content: center;background-color: white;position: relative;}#sk-container-id-3 div.sk-item::before, #sk-container-id-3 div.sk-parallel-item::before {content: \"\";position: absolute;border-left: 1px solid gray;box-sizing: border-box;top: 0;bottom: 0;left: 50%;z-index: -1;}#sk-container-id-3 div.sk-parallel-item {display: flex;flex-direction: column;z-index: 1;position: relative;background-color: white;}#sk-container-id-3 div.sk-parallel-item:first-child::after {align-self: flex-end;width: 50%;}#sk-container-id-3 div.sk-parallel-item:last-child::after {align-self: flex-start;width: 50%;}#sk-container-id-3 div.sk-parallel-item:only-child::after {width: 0;}#sk-container-id-3 div.sk-dashed-wrapped {border: 1px dashed gray;margin: 0 0.4em 0.5em 0.4em;box-sizing: border-box;padding-bottom: 0.4em;background-color: white;}#sk-container-id-3 div.sk-label label {font-family: monospace;font-weight: bold;display: inline-block;line-height: 1.2em;}#sk-container-id-3 div.sk-label-container {text-align: center;}#sk-container-id-3 div.sk-container {/* jupyter's `normalize.less` sets `[hidden] { display: none; }` but bootstrap.min.css set `[hidden] { display: none !important; }` so we also need the `!important` here to be able to override the default hidden behavior on the sphinx rendered scikit-learn.org. See: https://github.com/scikit-learn/scikit-learn/issues/21755 */display: inline-block !important;position: relative;}#sk-container-id-3 div.sk-text-repr-fallback {display: none;}</style><div id=\"sk-container-id-3\" class=\"sk-top-container\"><div class=\"sk-text-repr-fallback\"><pre>LinearDiscriminantAnalysis()</pre><b>In a Jupyter environment, please rerun this cell to show the HTML representation or trust the notebook. <br />On GitHub, the HTML representation is unable to render, please try loading this page with nbviewer.org.</b></div><div class=\"sk-container\" hidden><div class=\"sk-item\"><div class=\"sk-estimator sk-toggleable\"><input class=\"sk-toggleable__control sk-hidden--visually\" id=\"sk-estimator-id-3\" type=\"checkbox\" checked><label for=\"sk-estimator-id-3\" class=\"sk-toggleable__label sk-toggleable__label-arrow\">LinearDiscriminantAnalysis</label><div class=\"sk-toggleable__content\"><pre>LinearDiscriminantAnalysis()</pre></div></div></div></div></div>"
      ],
      "text/plain": [
       "LinearDiscriminantAnalysis()"
      ]
     },
     "execution_count": 102,
     "metadata": {},
     "output_type": "execute_result"
    }
   ],
   "source": [
    "model2.fit(x_train_scaled, y_train)"
   ]
  },
  {
   "cell_type": "code",
   "execution_count": 106,
   "id": "16556a97-50a7-44be-8efa-84bafffa0170",
   "metadata": {},
   "outputs": [],
   "source": [
    "y_pred2 = model2.predict(x_test_scaled)"
   ]
  },
  {
   "cell_type": "code",
   "execution_count": 107,
   "id": "e6fb4079-7e8b-4035-86b2-ef16bba9cd53",
   "metadata": {},
   "outputs": [],
   "source": [
    "accuracy2 = accuracy_score(y_test, y_pred2)"
   ]
  },
  {
   "cell_type": "code",
   "execution_count": 108,
   "id": "1325549d-ebfc-4c5e-9f2d-94407a07cb86",
   "metadata": {},
   "outputs": [
    {
     "data": {
      "text/plain": [
       "0.9523809523809523"
      ]
     },
     "execution_count": 108,
     "metadata": {},
     "output_type": "execute_result"
    }
   ],
   "source": [
    "accuracy2"
   ]
  },
  {
   "cell_type": "code",
   "execution_count": 109,
   "id": "e203fe11-6945-4b89-ab55-5189f69c9e96",
   "metadata": {},
   "outputs": [
    {
     "data": {
      "text/plain": [
       "'              precision    recall  f1-score   support\\n\\n           1       0.86      1.00      0.92        12\\n           2       1.00      0.93      0.97        15\\n           3       1.00      0.93      0.97        15\\n\\n    accuracy                           0.95        42\\n   macro avg       0.95      0.96      0.95        42\\nweighted avg       0.96      0.95      0.95        42\\n'"
      ]
     },
     "execution_count": 109,
     "metadata": {},
     "output_type": "execute_result"
    }
   ],
   "source": [
    "classification_report(y_test, y_pred2)"
   ]
  },
  {
   "cell_type": "code",
   "execution_count": 115,
   "id": "c5e71e93-28be-4c98-9113-f9911b7902a1",
   "metadata": {},
   "outputs": [
    {
     "name": "stdout",
     "output_type": "stream",
     "text": [
      "\n",
      "Classification report for Linear Discrimination Analysis:\n",
      "               precision    recall  f1-score   support\n",
      "\n",
      "           1       0.86      1.00      0.92        12\n",
      "           2       1.00      0.93      0.97        15\n",
      "           3       1.00      0.93      0.97        15\n",
      "\n",
      "    accuracy                           0.95        42\n",
      "   macro avg       0.95      0.96      0.95        42\n",
      "weighted avg       0.96      0.95      0.95        42\n",
      "\n"
     ]
    }
   ],
   "source": [
    "print('\\nClassification report for Linear Discrimination Analysis:\\n' ,\n",
    "      classification_report(y_test, y_pred2))"
   ]
  },
  {
   "cell_type": "code",
   "execution_count": null,
   "id": "d6d725a3-c2f8-48a2-8dd0-87fe80423e97",
   "metadata": {},
   "outputs": [],
   "source": []
  },
  {
   "cell_type": "code",
   "execution_count": null,
   "id": "1dd5eb1c-f01d-46e8-b50b-4e7e6b8d3f76",
   "metadata": {},
   "outputs": [],
   "source": []
  },
  {
   "cell_type": "code",
   "execution_count": null,
   "id": "3649047c-6149-4191-accc-f1bf6735ec75",
   "metadata": {},
   "outputs": [],
   "source": []
  },
  {
   "cell_type": "code",
   "execution_count": null,
   "id": "9e84af4e-5272-4c80-8191-7d63e8c74e0e",
   "metadata": {},
   "outputs": [],
   "source": []
  },
  {
   "cell_type": "code",
   "execution_count": null,
   "id": "f5abefd0-c5b7-44c9-9c94-bfcbc6ff59c6",
   "metadata": {},
   "outputs": [],
   "source": []
  },
  {
   "cell_type": "code",
   "execution_count": null,
   "id": "e95d009b-e6b5-46f3-b007-8d599f1061e8",
   "metadata": {},
   "outputs": [],
   "source": []
  },
  {
   "cell_type": "code",
   "execution_count": null,
   "id": "cc9a3810-d0d8-4377-853a-ba3edcbe42cf",
   "metadata": {},
   "outputs": [],
   "source": []
  },
  {
   "cell_type": "code",
   "execution_count": null,
   "id": "70ef42a4-524b-4059-a566-5d77057bfdc6",
   "metadata": {},
   "outputs": [],
   "source": []
  },
  {
   "cell_type": "code",
   "execution_count": null,
   "id": "2152a653-2cdd-4990-9781-4e2026509313",
   "metadata": {},
   "outputs": [],
   "source": []
  }
 ],
 "metadata": {
  "kernelspec": {
   "display_name": "Python 3 (ipykernel)",
   "language": "python",
   "name": "python3"
  },
  "language_info": {
   "codemirror_mode": {
    "name": "ipython",
    "version": 3
   },
   "file_extension": ".py",
   "mimetype": "text/x-python",
   "name": "python",
   "nbconvert_exporter": "python",
   "pygments_lexer": "ipython3",
   "version": "3.11.7"
  }
 },
 "nbformat": 4,
 "nbformat_minor": 5
}
